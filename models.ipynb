{
 "cells": [
  {
   "cell_type": "code",
   "execution_count": null,
   "metadata": {},
   "outputs": [],
   "source": [
    "import numpy as np\n",
    "import sklearn as sk\n",
    "from sklearn.svm import SVC\n",
    "from sklearn.model_selection import train_test_split\n",
    "from sklearn.metrics import accuracy_score,confusion_matrix,precision_score,recall_score,f1_score,classification_report\n",
    "from sklearn.model_selection import KFold\n",
    "from sklearn.model_selection import GridSearchCV,RandomizedSearchCV\n",
    "import transforming_data\n",
    "import xgboost as xgb\n",
    "from sklearn.metrics import classification_report"
   ]
  },
  {
   "cell_type": "code",
   "execution_count": 195,
   "metadata": {},
   "outputs": [],
   "source": [
    "data = transforming_data.get_transformed_data()"
   ]
  },
  {
   "cell_type": "code",
   "execution_count": 196,
   "metadata": {},
   "outputs": [
    {
     "data": {
      "text/html": [
       "<div>\n",
       "<style scoped>\n",
       "    .dataframe tbody tr th:only-of-type {\n",
       "        vertical-align: middle;\n",
       "    }\n",
       "\n",
       "    .dataframe tbody tr th {\n",
       "        vertical-align: top;\n",
       "    }\n",
       "\n",
       "    .dataframe thead th {\n",
       "        text-align: right;\n",
       "    }\n",
       "</style>\n",
       "<table border=\"1\" class=\"dataframe\">\n",
       "  <thead>\n",
       "    <tr style=\"text-align: right;\">\n",
       "      <th></th>\n",
       "      <th>Unnamed: 0</th>\n",
       "      <th>Age</th>\n",
       "      <th>Gender</th>\n",
       "      <th>Income</th>\n",
       "      <th>Education_Level</th>\n",
       "      <th>Travel_Frequency</th>\n",
       "      <th>Preferred_Activities</th>\n",
       "      <th>Vacation_Budget</th>\n",
       "      <th>Location</th>\n",
       "      <th>Proximity_to_Mountains</th>\n",
       "      <th>Proximity_to_Beaches</th>\n",
       "      <th>Pets</th>\n",
       "      <th>Environmental_Concerns</th>\n",
       "      <th>Output</th>\n",
       "      <th>fall</th>\n",
       "      <th>spring</th>\n",
       "      <th>summer</th>\n",
       "      <th>winter</th>\n",
       "    </tr>\n",
       "  </thead>\n",
       "  <tbody>\n",
       "    <tr>\n",
       "      <th>0</th>\n",
       "      <td>45292</td>\n",
       "      <td>0.098039</td>\n",
       "      <td>0</td>\n",
       "      <td>0.211043</td>\n",
       "      <td>1.0</td>\n",
       "      <td>0.527842</td>\n",
       "      <td>0</td>\n",
       "      <td>0.039342</td>\n",
       "      <td>1</td>\n",
       "      <td>0.460128</td>\n",
       "      <td>0.841332</td>\n",
       "      <td>0</td>\n",
       "      <td>0</td>\n",
       "      <td>1</td>\n",
       "      <td>0.0</td>\n",
       "      <td>0.0</td>\n",
       "      <td>1.0</td>\n",
       "      <td>0.0</td>\n",
       "    </tr>\n",
       "    <tr>\n",
       "      <th>1</th>\n",
       "      <td>5209</td>\n",
       "      <td>0.568627</td>\n",
       "      <td>1</td>\n",
       "      <td>0.054433</td>\n",
       "      <td>2.0</td>\n",
       "      <td>-1.552459</td>\n",
       "      <td>0</td>\n",
       "      <td>0.772838</td>\n",
       "      <td>1</td>\n",
       "      <td>1.002048</td>\n",
       "      <td>1.649704</td>\n",
       "      <td>0</td>\n",
       "      <td>0</td>\n",
       "      <td>1</td>\n",
       "      <td>0.0</td>\n",
       "      <td>1.0</td>\n",
       "      <td>0.0</td>\n",
       "      <td>0.0</td>\n",
       "    </tr>\n",
       "    <tr>\n",
       "      <th>2</th>\n",
       "      <td>1011</td>\n",
       "      <td>0.490196</td>\n",
       "      <td>2</td>\n",
       "      <td>0.343701</td>\n",
       "      <td>2.0</td>\n",
       "      <td>0.527842</td>\n",
       "      <td>3</td>\n",
       "      <td>0.181818</td>\n",
       "      <td>0</td>\n",
       "      <td>-0.646771</td>\n",
       "      <td>-0.913988</td>\n",
       "      <td>0</td>\n",
       "      <td>0</td>\n",
       "      <td>0</td>\n",
       "      <td>1.0</td>\n",
       "      <td>0.0</td>\n",
       "      <td>0.0</td>\n",
       "      <td>0.0</td>\n",
       "    </tr>\n",
       "    <tr>\n",
       "      <th>3</th>\n",
       "      <td>8657</td>\n",
       "      <td>0.509804</td>\n",
       "      <td>0</td>\n",
       "      <td>0.358402</td>\n",
       "      <td>1.0</td>\n",
       "      <td>0.874559</td>\n",
       "      <td>2</td>\n",
       "      <td>0.103134</td>\n",
       "      <td>0</td>\n",
       "      <td>-0.612181</td>\n",
       "      <td>1.511126</td>\n",
       "      <td>0</td>\n",
       "      <td>1</td>\n",
       "      <td>0</td>\n",
       "      <td>0.0</td>\n",
       "      <td>1.0</td>\n",
       "      <td>0.0</td>\n",
       "      <td>0.0</td>\n",
       "    </tr>\n",
       "    <tr>\n",
       "      <th>4</th>\n",
       "      <td>2824</td>\n",
       "      <td>0.019608</td>\n",
       "      <td>1</td>\n",
       "      <td>0.987399</td>\n",
       "      <td>0.0</td>\n",
       "      <td>-0.859026</td>\n",
       "      <td>3</td>\n",
       "      <td>0.331185</td>\n",
       "      <td>2</td>\n",
       "      <td>1.151941</td>\n",
       "      <td>1.280163</td>\n",
       "      <td>0</td>\n",
       "      <td>1</td>\n",
       "      <td>0</td>\n",
       "      <td>1.0</td>\n",
       "      <td>0.0</td>\n",
       "      <td>0.0</td>\n",
       "      <td>0.0</td>\n",
       "    </tr>\n",
       "  </tbody>\n",
       "</table>\n",
       "</div>"
      ],
      "text/plain": [
       "   Unnamed: 0       Age  Gender    Income  Education_Level  Travel_Frequency  \\\n",
       "0       45292  0.098039       0  0.211043              1.0          0.527842   \n",
       "1        5209  0.568627       1  0.054433              2.0         -1.552459   \n",
       "2        1011  0.490196       2  0.343701              2.0          0.527842   \n",
       "3        8657  0.509804       0  0.358402              1.0          0.874559   \n",
       "4        2824  0.019608       1  0.987399              0.0         -0.859026   \n",
       "\n",
       "   Preferred_Activities  Vacation_Budget  Location  Proximity_to_Mountains  \\\n",
       "0                     0         0.039342         1                0.460128   \n",
       "1                     0         0.772838         1                1.002048   \n",
       "2                     3         0.181818         0               -0.646771   \n",
       "3                     2         0.103134         0               -0.612181   \n",
       "4                     3         0.331185         2                1.151941   \n",
       "\n",
       "   Proximity_to_Beaches  Pets  Environmental_Concerns  Output  fall  spring  \\\n",
       "0              0.841332     0                       0       1   0.0     0.0   \n",
       "1              1.649704     0                       0       1   0.0     1.0   \n",
       "2             -0.913988     0                       0       0   1.0     0.0   \n",
       "3              1.511126     0                       1       0   0.0     1.0   \n",
       "4              1.280163     0                       1       0   1.0     0.0   \n",
       "\n",
       "   summer  winter  \n",
       "0     1.0     0.0  \n",
       "1     0.0     0.0  \n",
       "2     0.0     0.0  \n",
       "3     0.0     0.0  \n",
       "4     0.0     0.0  "
      ]
     },
     "execution_count": 196,
     "metadata": {},
     "output_type": "execute_result"
    }
   ],
   "source": [
    "data.head()"
   ]
  },
  {
   "cell_type": "code",
   "execution_count": 197,
   "metadata": {},
   "outputs": [
    {
     "name": "stdout",
     "output_type": "stream",
     "text": [
      "Number of features :  18\n",
      "Number of examples :  20000\n",
      "(20000, 18)\n"
     ]
    }
   ],
   "source": [
    "print(\"Number of features : \" , data.shape[1])\n",
    "print(\"Number of examples : \" , data.shape[0])\n",
    "print(data.shape)"
   ]
  },
  {
   "cell_type": "code",
   "execution_count": 198,
   "metadata": {},
   "outputs": [],
   "source": [
    "X = data.drop(columns='Output')  \n",
    "y = data['Output'].values.reshape(-1, 1)"
   ]
  },
  {
   "cell_type": "code",
   "execution_count": 199,
   "metadata": {},
   "outputs": [
    {
     "name": "stdout",
     "output_type": "stream",
     "text": [
      "done\n"
     ]
    }
   ],
   "source": [
    "X_train, X_test, y_train, y_test = train_test_split(X, y, test_size=0.05, random_state=42)\n",
    "y_train.reshape(1 , -1)\n",
    "y_test.reshape(1 , -1)\n",
    "print(\"done\")"
   ]
  },
  {
   "cell_type": "markdown",
   "metadata": {},
   "source": [
    "# SVM"
   ]
  },
  {
   "cell_type": "code",
   "execution_count": 200,
   "metadata": {},
   "outputs": [],
   "source": [
    "def create_svm_model(best_params, X_train, y_train):\n",
    "    model = SVC(C=best_params['C'], gamma=best_params['gamma'], kernel='rbf')\n",
    "\n",
    "    model.fit(X_train, y_train)\n",
    "\n",
    "    return model"
   ]
  },
  {
   "cell_type": "code",
   "execution_count": 201,
   "metadata": {},
   "outputs": [],
   "source": [
    "def tune_svm_hyperparameters(X_train, y_train, X_test, y_test):\n",
    "    param_grid = {\n",
    "        'C': [0.1, 1, 10, 100],\n",
    "        'gamma': [0.001, 0.01, 0.1, 1, 10]\n",
    "    }\n",
    "\n",
    "    svm = SVC(kernel='rbf')\n",
    "\n",
    "    grid_search = GridSearchCV(estimator=svm, param_grid=param_grid, cv=5, n_jobs=-1)\n",
    "\n",
    "    grid_search.fit(X_train, y_train)\n",
    "\n",
    "    best_params = grid_search.best_params_\n",
    "    best_accuracy = grid_search.best_score_\n",
    "\n",
    "    best_svm = grid_search.best_estimator_\n",
    "\n",
    "    test_accuracy = best_svm.score(X_test, y_test)\n",
    "\n",
    "    print(\"Best parameters found: \", best_params)\n",
    "    print(\"Best accuracy achieved (on training data): \", best_accuracy)\n",
    "    print(f\"Test accuracy: {test_accuracy}\")\n",
    "\n",
    "    return best_params, best_accuracy, test_accuracy\n"
   ]
  },
  {
   "cell_type": "code",
   "execution_count": 202,
   "metadata": {},
   "outputs": [
    {
     "name": "stderr",
     "output_type": "stream",
     "text": [
      "c:\\Users\\user\\AppData\\Local\\Programs\\Python\\Python313\\Lib\\site-packages\\sklearn\\utils\\validation.py:1408: DataConversionWarning: A column-vector y was passed when a 1d array was expected. Please change the shape of y to (n_samples, ), for example using ravel().\n",
      "  y = column_or_1d(y, warn=True)\n"
     ]
    },
    {
     "name": "stdout",
     "output_type": "stream",
     "text": [
      "Best parameters found:  {'C': 100, 'gamma': 0.001}\n",
      "Best accuracy achieved (on training data):  0.7715789473684211\n",
      "Test accuracy: 0.778\n"
     ]
    },
    {
     "name": "stderr",
     "output_type": "stream",
     "text": [
      "c:\\Users\\user\\AppData\\Local\\Programs\\Python\\Python313\\Lib\\site-packages\\sklearn\\utils\\validation.py:1408: DataConversionWarning: A column-vector y was passed when a 1d array was expected. Please change the shape of y to (n_samples, ), for example using ravel().\n",
      "  y = column_or_1d(y, warn=True)\n"
     ]
    }
   ],
   "source": [
    "best_params, best_accuracy, test_accuracy = tune_svm_hyperparameters(X_train, y_train, X_test, y_test)\n",
    "model = create_svm_model(best_params , X_train , y_train)"
   ]
  },
  {
   "cell_type": "code",
   "execution_count": 203,
   "metadata": {},
   "outputs": [
    {
     "name": "stdout",
     "output_type": "stream",
     "text": [
      "accuracy_score:  0.778\n",
      "Recall Score: 0.5095785440613027\n",
      "Precision Score: 0.5859030837004405\n",
      "F1 Score: 0.5450819672131147\n"
     ]
    }
   ],
   "source": [
    "y_pred = model.predict(X_test)\n",
    "print(\"accuracy_score: \" , accuracy_score(y_pred=y_pred , y_true=y_test))\n",
    "print(\"Recall Score:\", recall_score(y_true=y_test, y_pred=y_pred, average='binary'))\n",
    "print(\"Precision Score:\", precision_score(y_true=y_test, y_pred=y_pred, average='binary'))\n",
    "print(\"F1 Score:\", f1_score(y_true=y_test, y_pred=y_pred, average='binary'))\n"
   ]
  },
  {
   "cell_type": "code",
   "execution_count": 204,
   "metadata": {},
   "outputs": [
    {
     "data": {
      "image/png": "[encoded data removed]",
      "text/plain": [
       "<Figure size 600x500 with 1 Axes>"
      ]
     },
     "metadata": {},
     "output_type": "display_data"
    }
   ],
   "source": [
    "import matplotlib.pyplot as plt\n",
    "import seaborn as sns\n",
    "\n",
    "# Generate confusion matrix\n",
    "cm = confusion_matrix(y_true=y_test, y_pred=y_pred)\n",
    "\n",
    "# Create a heatmap to visualize the confusion matrix\n",
    "plt.figure(figsize=(6, 5))\n",
    "sns.heatmap(cm, annot=True, fmt='d', cmap='Blues', cbar=False, \n",
    "            xticklabels=['Predicted Negative', 'Predicted Positive'], \n",
    "            yticklabels=['Actual Negative', 'Actual Positive'])\n",
    "\n",
    "plt.title(\"Confusion Matrix\")\n",
    "plt.xlabel(\"Predicted\")\n",
    "plt.ylabel(\"Actual\")\n",
    "plt.show()"
   ]
  },
  {
   "cell_type": "code",
   "execution_count": 205,
   "metadata": {},
   "outputs": [
    {
     "name": "stdout",
     "output_type": "stream",
     "text": [
      "              precision    recall  f1-score   support\n",
      "\n",
      "           0       0.87      0.83      0.85       773\n",
      "           1       0.51      0.59      0.55       227\n",
      "\n",
      "    accuracy                           0.78      1000\n",
      "   macro avg       0.69      0.71      0.70      1000\n",
      "weighted avg       0.79      0.78      0.78      1000\n",
      "\n"
     ]
    }
   ],
   "source": [
    "print(classification_report(y_pred , y_test))"
   ]
  },
  {
   "cell_type": "markdown",
   "metadata": {},
   "source": [
    "# Random Forest"
   ]
  },
  {
   "cell_type": "code",
   "execution_count": null,
   "metadata": {},
   "outputs": [],
   "source": [
    "from sklearn.model_selection import  train_test_split\n",
    "# 1. Data Splitting\n",
    "X_train,X_test,y_train,y_test=train_test_split(X,y,test_size=0.05,random_state=42)\n",
    "\n",
    "# 2. Model\n",
    "xgb_model=xgb.XGBClassifier(use_label_encoder=False,eval_metric='logloss') \n",
    "\n",
    "# 3. Train model\n",
    "xgb_model.fit(X_train,y_train)\n",
    "\n",
    "# 4. Make predictions\n",
    "y_pred=xgb_model.predict(X_test)\n",
    "\n",
    "# 5. Evaluate model\n",
    "accuracy=accuracy_score(y_test,y_pred)"
   ]
  },
  {
   "cell_type": "code",
   "execution_count": null,
   "metadata": {},
   "outputs": [],
   "source": [
    "def create_xgb_model(best_params, X_train, y_train):\n",
    "    model = xgb.XGBClassifier(\n",
    "        **best_params,\n",
    "        use_label_encoder=False,\n",
    "        eval_metric='logloss'\n",
    "    )\n",
    "\n",
    "    model.fit(X_train, y_train)\n",
    "\n",
    "    return model"
   ]
  },
  {
   "cell_type": "code",
   "execution_count": null,
   "metadata": {},
   "outputs": [],
   "source": [
    "def tune_xgb_hyperparameters(X_train, y_train, X_test, y_test):\n",
    "    param_grid = {\n",
    "        'n_estimators': [50, 100],\n",
    "        'max_depth': [3, 5],\n",
    "        'colsample_bytree': [0.7, 0.8],\n",
    "        'learning_rate': [0.01, 0.05],\n",
    "        'subsample': [0.7, 0.8],\n",
    "        'gamma': [0, 0.1]\n",
    "    }\n",
    "\n",
    "    xgb_classifier = xgb.XGBClassifier(use_label_encoder=False, eval_metric='logloss')\n",
    "\n",
    "    random_search = RandomizedSearchCV(estimator=xgb_classifier, param_distributions=param_grid, \n",
    "                                       cv=3, n_iter=10, n_jobs=-1, verbose=10, random_state=42)\n",
    "\n",
    "    random_search.fit(X_train, y_train)\n",
    "\n",
    "    best_params = random_search.best_params_\n",
    "    best_accuracy = random_search.best_score_\n",
    "\n",
    "    best_xgb = random_search.best_estimator_\n",
    "    test_accuracy = best_xgb.score(X_test, y_test)\n",
    "    \n",
    "    print(\"Best parameters found: \", best_params)\n",
    "    print(\"Best accuracy achieved (on training data): \", best_accuracy)\n",
    "    print(f\"Test accuracy: {test_accuracy}\")\n",
    "\n",
    "    return best_params, best_accuracy, test_accuracy"
   ]
  },
  {
   "cell_type": "code",
   "execution_count": null,
   "metadata": {},
   "outputs": [],
   "source": [
    "# Call the function to tune hyperparameters and get the best parameters\n",
    "best_params, best_accuracy, test_accuracy = tune_xgb_hyperparameters(X_train, y_train, X_test, y_test)\n",
    "\n",
    "# Use the best parameters to create and train the model\n",
    "model = create_xgb_model(best_params, X_train, y_train)"
   ]
  },
  {
   "cell_type": "markdown",
   "metadata": {},
   "source": [
    "# Logistic Regression"
   ]
  },
  {
   "cell_type": "code",
   "execution_count": 207,
   "metadata": {},
   "outputs": [],
   "source": [
    "def sigmoid(z):\n",
    "    return 1 / (1 + np.exp(-z))"
   ]
  },
  {
   "cell_type": "code",
   "execution_count": 208,
   "metadata": {},
   "outputs": [],
   "source": [
    "def loss(y_pred, y):\n",
    "    return - (y * np.log(y_pred) + (1 - y) * np.log(1 - y_pred))"
   ]
  },
  {
   "cell_type": "code",
   "execution_count": null,
   "metadata": {},
   "outputs": [],
   "source": [
    "def cost_func(X , y , w ,b):\n",
    "    y_pred = sigmoid(np.dot(X , w.T) + b)\n",
    "    y_pred[np.isinf(y_pred)] = 1e-15\n",
    "    cost = np.mean(loss(y_pred , y)) # (m , n) @(n , 1)--> (m , 1) + b -> (m+b , 1)\n",
    "    return cost"
   ]
  },
  {
   "cell_type": "code",
   "execution_count": 218,
   "metadata": {},
   "outputs": [],
   "source": [
    "def derivatives(X , y , w , b):\n",
    "    m = X.shape[0]\n",
    "    dw = np.zeros_like(w)\n",
    "    db = 0\n",
    "    y_pred = sigmoid(np.dot(X , w.T) + b)\n",
    "    y_pred[np.isinf(y_pred)] = 1e-15\n",
    "    error = y_pred - y\n",
    "    dw = (1 / m) * np.dot(error.T, X)  # Gradient of loss with respect to weights\n",
    "    db = (1 / m) * np.sum(error)\n",
    "    return dw , db"
   ]
  },
  {
   "cell_type": "code",
   "execution_count": 219,
   "metadata": {},
   "outputs": [],
   "source": [
    "def Gradient_Descent(X , y , w , b , alpha , epochs):\n",
    "   # Hyperparameters for Adam optimizer\n",
    "    beta1 = 0.9   # Exponential decay rate for the first moment estimate\n",
    "    beta2 = 0.999 # Exponential decay rate for the second moment estimate\n",
    "    epsilon = 1e-8 # Small number to avoid division by zero\n",
    "    \n",
    "    m_w = np.zeros_like(w)   # Initialize first moment for weights\n",
    "    v_w = np.zeros_like(w)   # Initialize second moment for weights\n",
    "    m_b = 0                  # Initialize first moment for bias\n",
    "    v_b = 0                  # Initialize second moment for bias\n",
    "    t = 0                    # Time step counter\n",
    "    \n",
    "    for i in range(epochs):\n",
    "        t += 1  # Increment the time step\n",
    "        \n",
    "        # Forward pass\n",
    "        cost = cost_func(X , y , w , b)\n",
    "        \n",
    "        # Backward pass\n",
    "        dw, db = derivatives(X , y , w , b)\n",
    "        \n",
    "        # Update first moment (m) and second moment (v) for weights\n",
    "        m_w = beta1 * m_w + (1 - beta1) * dw\n",
    "        v_w = beta2 * v_w + (1 - beta2) * (dw ** 2)\n",
    "        \n",
    "        # Update first moment (m) and second moment (v) for bias\n",
    "        m_b = beta1 * m_b + (1 - beta1) * db\n",
    "        v_b = beta2 * v_b + (1 - beta2) * (db ** 2)\n",
    "        \n",
    "        # Apply bias correction\n",
    "        m_w_hat = m_w / (1 - beta1 ** t)\n",
    "        v_w_hat = v_w / (1 - beta2 ** t)\n",
    "        m_b_hat = m_b / (1 - beta1 ** t)\n",
    "        v_b_hat = v_b / (1 - beta2 ** t)\n",
    "        \n",
    "        # Update weights and bias using the Adam update rule\n",
    "        w = w - alpha * m_w_hat / (np.sqrt(v_w_hat) + epsilon)\n",
    "        b = b - alpha * m_b_hat / (np.sqrt(v_b_hat) + epsilon)\n",
    "        if(i % 10000 == 0):\n",
    "            print(cost)\n",
    "    return w, b"
   ]
  },
  {
   "cell_type": "code",
   "execution_count": 220,
   "metadata": {},
   "outputs": [],
   "source": [
    "w = np.zeros((1 , X.shape[1]))\n",
    "b = 0"
   ]
  },
  {
   "cell_type": "code",
   "execution_count": null,
   "metadata": {},
   "outputs": [
    {
     "name": "stdout",
     "output_type": "stream",
     "text": [
      "0.6931471805599453\n"
     ]
    },
    {
     "name": "stderr",
     "output_type": "stream",
     "text": [
      "C:\\Users\\user\\AppData\\Local\\Temp\\ipykernel_12172\\4263267161.py:2: RuntimeWarning: divide by zero encountered in log\n",
      "  return - (y * np.log(y_pred) + (1 - y) * np.log(1 - y_pred))\n",
      "C:\\Users\\user\\AppData\\Local\\Temp\\ipykernel_12172\\4263267161.py:2: RuntimeWarning: invalid value encountered in multiply\n",
      "  return - (y * np.log(y_pred) + (1 - y) * np.log(1 - y_pred))\n"
     ]
    },
    {
     "name": "stdout",
     "output_type": "stream",
     "text": [
      "nan\n",
      "nan\n"
     ]
    }
   ],
   "source": [
    "updated_w , updated_b = Gradient_Descent(X_train , y_train , w , b , 0.01 , 40000)"
   ]
  },
  {
   "cell_type": "code",
   "execution_count": 214,
   "metadata": {},
   "outputs": [
    {
     "name": "stdout",
     "output_type": "stream",
     "text": [
      "[[ 2.22378489e-04  6.34921569e-01 -1.04625068e-01  3.38430860e-01\n",
      "  -8.96545185e-02  1.02319788e-02 -1.46973321e+01 -5.30072543e-01\n",
      "   9.55609908e-02 -1.09718138e+01  1.11041730e+01 -3.00085243e-01\n",
      "  -2.81228580e-01  3.60512428e+00  3.10172585e+00  2.82197192e+00\n",
      "   2.87033489e+00]]\n",
      "3.097750221822575\n"
     ]
    }
   ],
   "source": [
    "print(updated_w)\n",
    "print(updated_b)"
   ]
  },
  {
   "cell_type": "code",
   "execution_count": 215,
   "metadata": {},
   "outputs": [
    {
     "name": "stdout",
     "output_type": "stream",
     "text": [
      "0.6931471805599453\n",
      "0.6931471805599454\n"
     ]
    }
   ],
   "source": [
    "print(cost_func(X_train , y_train , w , b))\n",
    "print(cost_func(X_test , y_test , w , b))"
   ]
  },
  {
   "cell_type": "code",
   "execution_count": 216,
   "metadata": {},
   "outputs": [
    {
     "name": "stdout",
     "output_type": "stream",
     "text": [
      "nan\n",
      "nan\n"
     ]
    },
    {
     "name": "stderr",
     "output_type": "stream",
     "text": [
      "C:\\Users\\user\\AppData\\Local\\Temp\\ipykernel_12172\\4263267161.py:2: RuntimeWarning: divide by zero encountered in log\n",
      "  return - (y * np.log(y_pred) + (1 - y) * np.log(1 - y_pred))\n",
      "C:\\Users\\user\\AppData\\Local\\Temp\\ipykernel_12172\\4263267161.py:2: RuntimeWarning: invalid value encountered in multiply\n",
      "  return - (y * np.log(y_pred) + (1 - y) * np.log(1 - y_pred))\n"
     ]
    }
   ],
   "source": [
    "print(cost_func(X_train , y_train , updated_w , updated_b))\n",
    "print(cost_func(X_test , y_test , updated_w , updated_b))"
   ]
  },
  {
   "cell_type": "code",
   "execution_count": 191,
   "metadata": {},
   "outputs": [
    {
     "name": "stdout",
     "output_type": "stream",
     "text": [
      "accuracy_score:  0.724\n",
      "Recall Score: 0.0\n",
      "Precision Score: 0.0\n",
      "F1 Score: 0.0\n"
     ]
    },
    {
     "name": "stderr",
     "output_type": "stream",
     "text": [
      "c:\\Users\\user\\AppData\\Local\\Programs\\Python\\Python313\\Lib\\site-packages\\sklearn\\metrics\\_classification.py:1565: UndefinedMetricWarning: Precision is ill-defined and being set to 0.0 due to no predicted samples. Use `zero_division` parameter to control this behavior.\n",
      "  _warn_prf(average, modifier, f\"{metric.capitalize()} is\", len(result))\n"
     ]
    }
   ],
   "source": [
    "y_pred =sigmoid(np.dot(X_test , w.T) + b)\n",
    "y_pred = [0 if i <= 0.5 else 1 for i in y_pred]\n",
    "print(\"accuracy_score: \" , accuracy_score(y_pred=y_pred , y_true=y_test))\n",
    "print(\"Recall Score:\", recall_score(y_true=y_test, y_pred=y_pred, average='binary'))\n",
    "print(\"Precision Score:\", precision_score(y_true=y_test, y_pred=y_pred, average='binary'))\n",
    "print(\"F1 Score:\", f1_score(y_true=y_test, y_pred=y_pred, average='binary'))\n"
   ]
  }
 ],
 "metadata": {
  "kernelspec": {
   "display_name": "Python 3",
   "language": "python",
   "name": "python3"
  },
  "language_info": {
   "codemirror_mode": {
    "name": "ipython",
    "version": 3
   },
   "file_extension": ".py",
   "mimetype": "text/x-python",
   "name": "python",
   "nbconvert_exporter": "python",
   "pygments_lexer": "ipython3",
   "version": "3.13.1"
  }
 },
 "nbformat": 4,
 "nbformat_minor": 2
}
