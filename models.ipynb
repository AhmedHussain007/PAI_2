{
 "cells": [
  {
   "cell_type": "code",
   "execution_count": 3,
   "metadata": {},
   "outputs": [],
   "source": [
    "import numpy as np\n",
    "import sklearn as sk\n",
    "from sklearn.svm import SVC\n",
    "from sklearn.model_selection import train_test_split\n",
    "from sklearn.metrics import accuracy_score,confusion_matrix,precision_score,recall_score,f1_score,classification_report\n",
    "from sklearn.model_selection import KFold\n",
    "from sklearn.model_selection import GridSearchCV,RandomizedSearchCV\n",
    "import transforming_data\n",
    "import xgboost as xgb\n",
    "from sklearn.metrics import classification_report"
   ]
  },
  {
   "cell_type": "code",
   "execution_count": 4,
   "metadata": {},
   "outputs": [],
   "source": [
    "data = transforming_data.get_transformed_data()"
   ]
  },
  {
   "cell_type": "code",
   "execution_count": 5,
   "metadata": {},
   "outputs": [
    {
     "data": {
      "text/html": [
       "<div>\n",
       "<style scoped>\n",
       "    .dataframe tbody tr th:only-of-type {\n",
       "        vertical-align: middle;\n",
       "    }\n",
       "\n",
       "    .dataframe tbody tr th {\n",
       "        vertical-align: top;\n",
       "    }\n",
       "\n",
       "    .dataframe thead th {\n",
       "        text-align: right;\n",
       "    }\n",
       "</style>\n",
       "<table border=\"1\" class=\"dataframe\">\n",
       "  <thead>\n",
       "    <tr style=\"text-align: right;\">\n",
       "      <th></th>\n",
       "      <th>Age</th>\n",
       "      <th>Gender</th>\n",
       "      <th>Income</th>\n",
       "      <th>Education_Level</th>\n",
       "      <th>Travel_Frequency</th>\n",
       "      <th>Preferred_Activities</th>\n",
       "      <th>Vacation_Budget</th>\n",
       "      <th>Location</th>\n",
       "      <th>Proximity_to_Mountains</th>\n",
       "      <th>Proximity_to_Beaches</th>\n",
       "      <th>Pets</th>\n",
       "      <th>Environmental_Concerns</th>\n",
       "      <th>Output</th>\n",
       "      <th>fall</th>\n",
       "      <th>spring</th>\n",
       "      <th>summer</th>\n",
       "      <th>winter</th>\n",
       "    </tr>\n",
       "  </thead>\n",
       "  <tbody>\n",
       "    <tr>\n",
       "      <th>0</th>\n",
       "      <td>0.745098</td>\n",
       "      <td>1</td>\n",
       "      <td>0.514813</td>\n",
       "      <td>1.0</td>\n",
       "      <td>1.561130</td>\n",
       "      <td>1</td>\n",
       "      <td>0.439529</td>\n",
       "      <td>2</td>\n",
       "      <td>0.273154</td>\n",
       "      <td>1.352070</td>\n",
       "      <td>0</td>\n",
       "      <td>1</td>\n",
       "      <td>1</td>\n",
       "      <td>0.0</td>\n",
       "      <td>0.0</td>\n",
       "      <td>1.0</td>\n",
       "      <td>0.0</td>\n",
       "    </tr>\n",
       "    <tr>\n",
       "      <th>1</th>\n",
       "      <td>1.000000</td>\n",
       "      <td>1</td>\n",
       "      <td>0.687591</td>\n",
       "      <td>2.0</td>\n",
       "      <td>-1.226478</td>\n",
       "      <td>3</td>\n",
       "      <td>0.950867</td>\n",
       "      <td>1</td>\n",
       "      <td>0.884340</td>\n",
       "      <td>0.458057</td>\n",
       "      <td>0</td>\n",
       "      <td>1</td>\n",
       "      <td>0</td>\n",
       "      <td>1.0</td>\n",
       "      <td>0.0</td>\n",
       "      <td>0.0</td>\n",
       "      <td>0.0</td>\n",
       "    </tr>\n",
       "    <tr>\n",
       "      <th>2</th>\n",
       "      <td>0.549020</td>\n",
       "      <td>0</td>\n",
       "      <td>0.265448</td>\n",
       "      <td>2.0</td>\n",
       "      <td>-1.574928</td>\n",
       "      <td>1</td>\n",
       "      <td>0.215429</td>\n",
       "      <td>2</td>\n",
       "      <td>-0.926154</td>\n",
       "      <td>1.503008</td>\n",
       "      <td>0</td>\n",
       "      <td>0</td>\n",
       "      <td>1</td>\n",
       "      <td>0.0</td>\n",
       "      <td>0.0</td>\n",
       "      <td>0.0</td>\n",
       "      <td>1.0</td>\n",
       "    </tr>\n",
       "    <tr>\n",
       "      <th>3</th>\n",
       "      <td>0.274510</td>\n",
       "      <td>2</td>\n",
       "      <td>0.790720</td>\n",
       "      <td>0.0</td>\n",
       "      <td>0.515777</td>\n",
       "      <td>0</td>\n",
       "      <td>0.218319</td>\n",
       "      <td>0</td>\n",
       "      <td>-1.387426</td>\n",
       "      <td>1.212744</td>\n",
       "      <td>1</td>\n",
       "      <td>0</td>\n",
       "      <td>1</td>\n",
       "      <td>0.0</td>\n",
       "      <td>0.0</td>\n",
       "      <td>1.0</td>\n",
       "      <td>0.0</td>\n",
       "    </tr>\n",
       "    <tr>\n",
       "      <th>4</th>\n",
       "      <td>0.823529</td>\n",
       "      <td>0</td>\n",
       "      <td>0.866175</td>\n",
       "      <td>0.0</td>\n",
       "      <td>0.167326</td>\n",
       "      <td>2</td>\n",
       "      <td>0.003557</td>\n",
       "      <td>1</td>\n",
       "      <td>-1.479681</td>\n",
       "      <td>0.005246</td>\n",
       "      <td>1</td>\n",
       "      <td>1</td>\n",
       "      <td>0</td>\n",
       "      <td>0.0</td>\n",
       "      <td>0.0</td>\n",
       "      <td>0.0</td>\n",
       "      <td>1.0</td>\n",
       "    </tr>\n",
       "  </tbody>\n",
       "</table>\n",
       "</div>"
      ],
      "text/plain": [
       "        Age  Gender    Income  Education_Level  Travel_Frequency  \\\n",
       "0  0.745098       1  0.514813              1.0          1.561130   \n",
       "1  1.000000       1  0.687591              2.0         -1.226478   \n",
       "2  0.549020       0  0.265448              2.0         -1.574928   \n",
       "3  0.274510       2  0.790720              0.0          0.515777   \n",
       "4  0.823529       0  0.866175              0.0          0.167326   \n",
       "\n",
       "   Preferred_Activities  Vacation_Budget  Location  Proximity_to_Mountains  \\\n",
       "0                     1         0.439529         2                0.273154   \n",
       "1                     3         0.950867         1                0.884340   \n",
       "2                     1         0.215429         2               -0.926154   \n",
       "3                     0         0.218319         0               -1.387426   \n",
       "4                     2         0.003557         1               -1.479681   \n",
       "\n",
       "   Proximity_to_Beaches  Pets  Environmental_Concerns  Output  fall  spring  \\\n",
       "0              1.352070     0                       1       1   0.0     0.0   \n",
       "1              0.458057     0                       1       0   1.0     0.0   \n",
       "2              1.503008     0                       0       1   0.0     0.0   \n",
       "3              1.212744     1                       0       1   0.0     0.0   \n",
       "4              0.005246     1                       1       0   0.0     0.0   \n",
       "\n",
       "   summer  winter  \n",
       "0     1.0     0.0  \n",
       "1     0.0     0.0  \n",
       "2     0.0     1.0  \n",
       "3     1.0     0.0  \n",
       "4     0.0     1.0  "
      ]
     },
     "execution_count": 5,
     "metadata": {},
     "output_type": "execute_result"
    }
   ],
   "source": [
    "data.head()"
   ]
  },
  {
   "cell_type": "code",
   "execution_count": 6,
   "metadata": {},
   "outputs": [
    {
     "name": "stdout",
     "output_type": "stream",
     "text": [
      "Number of features :  17\n",
      "Number of examples :  5000\n",
      "(5000, 17)\n"
     ]
    }
   ],
   "source": [
    "print(\"Number of features : \" , data.shape[1])\n",
    "print(\"Number of examples : \" , data.shape[0])\n",
    "print(data.shape)"
   ]
  },
  {
   "cell_type": "code",
   "execution_count": 7,
   "metadata": {},
   "outputs": [],
   "source": [
    "X = data.drop(columns='Output')  \n",
    "y = data['Output'].values.reshape(-1, 1)"
   ]
  },
  {
   "cell_type": "code",
   "execution_count": 8,
   "metadata": {},
   "outputs": [
    {
     "name": "stdout",
     "output_type": "stream",
     "text": [
      "done\n"
     ]
    }
   ],
   "source": [
    "X_train, X_test, y_train, y_test = train_test_split(X, y, test_size=0.05, random_state=42)\n",
    "y_train.reshape(1 , -1)\n",
    "y_test.reshape(1 , -1)\n",
    "print(\"done\")"
   ]
  },
  {
   "cell_type": "markdown",
   "metadata": {},
   "source": [
    "# SVM"
   ]
  },
  {
   "cell_type": "code",
   "execution_count": 9,
   "metadata": {},
   "outputs": [],
   "source": [
    "def create_svm_model(best_params, X_train, y_train):\n",
    "    model = SVC(C=best_params['C'], gamma=best_params['gamma'], kernel='rbf')\n",
    "\n",
    "    model.fit(X_train, y_train)\n",
    "\n",
    "    return model"
   ]
  },
  {
   "cell_type": "code",
   "execution_count": 10,
   "metadata": {},
   "outputs": [],
   "source": [
    "def tune_svm_hyperparameters(X_train, y_train, X_test, y_test):\n",
    "    param_grid = {\n",
    "        'C': [0.1, 1, 10, 100],\n",
    "        'gamma': [0.001, 0.01, 0.1, 1, 10]\n",
    "    }\n",
    "\n",
    "    svm = SVC(kernel='rbf')\n",
    "\n",
    "    grid_search = GridSearchCV(estimator=svm, param_grid=param_grid, cv=5, n_jobs=-1)\n",
    "\n",
    "    grid_search.fit(X_train, y_train)\n",
    "\n",
    "    best_params = grid_search.best_params_\n",
    "    best_accuracy = grid_search.best_score_\n",
    "\n",
    "    best_svm = grid_search.best_estimator_\n",
    "\n",
    "    test_accuracy = best_svm.score(X_test, y_test)\n",
    "\n",
    "    print(\"Best parameters found: \", best_params)\n",
    "    print(\"Best accuracy achieved (on training data): \", best_accuracy)\n",
    "    print(f\"Test accuracy: {test_accuracy}\")\n",
    "\n",
    "    return best_params, best_accuracy, test_accuracy\n"
   ]
  },
  {
   "cell_type": "code",
   "execution_count": 11,
   "metadata": {},
   "outputs": [
    {
     "name": "stderr",
     "output_type": "stream",
     "text": [
      "c:\\Users\\hp\\AppData\\Local\\Programs\\Python\\Python312\\Lib\\site-packages\\sklearn\\utils\\validation.py:1339: DataConversionWarning: A column-vector y was passed when a 1d array was expected. Please change the shape of y to (n_samples, ), for example using ravel().\n",
      "  y = column_or_1d(y, warn=True)\n"
     ]
    },
    {
     "name": "stdout",
     "output_type": "stream",
     "text": [
      "Best parameters found:  {'C': 100, 'gamma': 0.01}\n",
      "Best accuracy achieved (on training data):  0.983578947368421\n",
      "Test accuracy: 0.976\n"
     ]
    },
    {
     "name": "stderr",
     "output_type": "stream",
     "text": [
      "c:\\Users\\hp\\AppData\\Local\\Programs\\Python\\Python312\\Lib\\site-packages\\sklearn\\utils\\validation.py:1339: DataConversionWarning: A column-vector y was passed when a 1d array was expected. Please change the shape of y to (n_samples, ), for example using ravel().\n",
      "  y = column_or_1d(y, warn=True)\n"
     ]
    }
   ],
   "source": [
    "best_params, best_accuracy, test_accuracy = tune_svm_hyperparameters(X_train, y_train, X_test, y_test)\n",
    "model = create_svm_model(best_params , X_train , y_train)"
   ]
  },
  {
   "cell_type": "code",
   "execution_count": 13,
   "metadata": {},
   "outputs": [
    {
     "name": "stdout",
     "output_type": "stream",
     "text": [
      "accuracy_score:  0.976\n",
      "Recall Score: 0.9420289855072463\n",
      "Precision Score: 0.9701492537313433\n",
      "F1 Score: 0.9558823529411765\n"
     ]
    }
   ],
   "source": [
    "y_pred = model.predict(X_test)\n",
    "print(\"accuracy_score: \" , accuracy_score(y_pred=y_pred , y_true=y_test))\n",
    "print(\"Recall Score:\", recall_score(y_true=y_test, y_pred=y_pred, average='binary'))\n",
    "print(\"Precision Score:\", precision_score(y_true=y_test, y_pred=y_pred, average='binary'))\n",
    "print(\"F1 Score:\", f1_score(y_true=y_test, y_pred=y_pred, average='binary'))\n"
   ]
  },
  {
   "cell_type": "code",
   "execution_count": 14,
   "metadata": {},
   "outputs": [
    {
     "data": {
      "image/png": "[encoded data removed]",
      "text/plain": [
       "<Figure size 600x500 with 1 Axes>"
      ]
     },
     "metadata": {},
     "output_type": "display_data"
    }
   ],
   "source": [
    "import matplotlib.pyplot as plt\n",
    "import seaborn as sns\n",
    "\n",
    "# Generate confusion matrix\n",
    "cm = confusion_matrix(y_true=y_test, y_pred=y_pred)\n",
    "\n",
    "# Create a heatmap to visualize the confusion matrix\n",
    "plt.figure(figsize=(6, 5))\n",
    "sns.heatmap(cm, annot=True, fmt='d', cmap='Blues', cbar=False, \n",
    "            xticklabels=['Predicted Negative', 'Predicted Positive'], \n",
    "            yticklabels=['Actual Negative', 'Actual Positive'])\n",
    "\n",
    "plt.title(\"Confusion Matrix\")\n",
    "plt.xlabel(\"Predicted\")\n",
    "plt.ylabel(\"Actual\")\n",
    "plt.show()"
   ]
  },
  {
   "cell_type": "code",
   "execution_count": 15,
   "metadata": {},
   "outputs": [
    {
     "name": "stdout",
     "output_type": "stream",
     "text": [
      "              precision    recall  f1-score   support\n",
      "\n",
      "           0       0.99      0.98      0.98       183\n",
      "           1       0.94      0.97      0.96        67\n",
      "\n",
      "    accuracy                           0.98       250\n",
      "   macro avg       0.97      0.97      0.97       250\n",
      "weighted avg       0.98      0.98      0.98       250\n",
      "\n"
     ]
    }
   ],
   "source": [
    "print(classification_report(y_pred , y_test))"
   ]
  },
  {
   "cell_type": "markdown",
   "metadata": {},
   "source": [
    "# Random Forest"
   ]
  },
  {
   "cell_type": "code",
   "execution_count": 16,
   "metadata": {},
   "outputs": [
    {
     "name": "stderr",
     "output_type": "stream",
     "text": [
      "c:\\Users\\hp\\AppData\\Local\\Programs\\Python\\Python312\\Lib\\site-packages\\xgboost\\core.py:158: UserWarning: [15:33:12] WARNING: C:\\buildkite-agent\\builds\\buildkite-windows-cpu-autoscaling-group-i-0c55ff5f71b100e98-1\\xgboost\\xgboost-ci-windows\\src\\learner.cc:740: \n",
      "Parameters: { \"use_label_encoder\" } are not used.\n",
      "\n",
      "  warnings.warn(smsg, UserWarning)\n"
     ]
    }
   ],
   "source": [
    "from sklearn.model_selection import  train_test_split\n",
    "# 1. Data Splitting\n",
    "X_train,X_test,y_train,y_test=train_test_split(X,y,test_size=0.05,random_state=42)\n",
    "\n",
    "# 2. Model\n",
    "xgb_model=xgb.XGBClassifier(use_label_encoder=False,eval_metric='logloss') \n",
    "\n",
    "# 3. Train model\n",
    "xgb_model.fit(X_train,y_train)\n",
    "\n",
    "# 4. Make predictions\n",
    "y_pred=xgb_model.predict(X_test)\n",
    "\n",
    "# 5. Evaluate model\n",
    "accuracy=accuracy_score(y_test,y_pred)"
   ]
  },
  {
   "cell_type": "code",
   "execution_count": 17,
   "metadata": {},
   "outputs": [],
   "source": [
    "def create_xgb_model(best_params, X_train, y_train):\n",
    "    model = xgb.XGBClassifier(\n",
    "        **best_params,\n",
    "        use_label_encoder=False,\n",
    "        eval_metric='logloss'\n",
    "    )\n",
    "\n",
    "    model.fit(X_train, y_train)\n",
    "\n",
    "    return model"
   ]
  },
  {
   "cell_type": "code",
   "execution_count": 18,
   "metadata": {},
   "outputs": [],
   "source": [
    "def tune_xgb_hyperparameters(X_train, y_train, X_test, y_test):\n",
    "    param_grid = {\n",
    "        'n_estimators': [50, 100],\n",
    "        'max_depth': [3, 5],\n",
    "        'colsample_bytree': [0.7, 0.8],\n",
    "        'learning_rate': [0.01, 0.05],\n",
    "        'subsample': [0.7, 0.8],\n",
    "        'gamma': [0, 0.1]\n",
    "    }\n",
    "\n",
    "    xgb_classifier = xgb.XGBClassifier(use_label_encoder=False, eval_metric='logloss')\n",
    "\n",
    "    random_search = RandomizedSearchCV(estimator=xgb_classifier, param_distributions=param_grid, \n",
    "                                       cv=3, n_iter=10, n_jobs=-1, verbose=10, random_state=42)\n",
    "\n",
    "    random_search.fit(X_train, y_train)\n",
    "\n",
    "    best_params = random_search.best_params_\n",
    "    best_accuracy = random_search.best_score_\n",
    "\n",
    "    best_xgb = random_search.best_estimator_\n",
    "    test_accuracy = best_xgb.score(X_test, y_test)\n",
    "    \n",
    "    print(\"Best parameters found: \", best_params)\n",
    "    print(\"Best accuracy achieved (on training data): \", best_accuracy)\n",
    "    print(f\"Test accuracy: {test_accuracy}\")\n",
    "\n",
    "    return best_params, best_accuracy, test_accuracy"
   ]
  },
  {
   "cell_type": "code",
   "execution_count": 19,
   "metadata": {},
   "outputs": [
    {
     "name": "stdout",
     "output_type": "stream",
     "text": [
      "Fitting 3 folds for each of 10 candidates, totalling 30 fits\n",
      "Best parameters found:  {'subsample': 0.7, 'n_estimators': 50, 'max_depth': 5, 'learning_rate': 0.05, 'gamma': 0, 'colsample_bytree': 0.8}\n",
      "Best accuracy achieved (on training data):  0.9877888965460032\n",
      "Test accuracy: 0.984\n"
     ]
    },
    {
     "name": "stderr",
     "output_type": "stream",
     "text": [
      "c:\\Users\\hp\\AppData\\Local\\Programs\\Python\\Python312\\Lib\\site-packages\\xgboost\\core.py:158: UserWarning: [15:33:20] WARNING: C:\\buildkite-agent\\builds\\buildkite-windows-cpu-autoscaling-group-i-0c55ff5f71b100e98-1\\xgboost\\xgboost-ci-windows\\src\\learner.cc:740: \n",
      "Parameters: { \"use_label_encoder\" } are not used.\n",
      "\n",
      "  warnings.warn(smsg, UserWarning)\n",
      "c:\\Users\\hp\\AppData\\Local\\Programs\\Python\\Python312\\Lib\\site-packages\\xgboost\\core.py:158: UserWarning: [15:33:20] WARNING: C:\\buildkite-agent\\builds\\buildkite-windows-cpu-autoscaling-group-i-0c55ff5f71b100e98-1\\xgboost\\xgboost-ci-windows\\src\\learner.cc:740: \n",
      "Parameters: { \"use_label_encoder\" } are not used.\n",
      "\n",
      "  warnings.warn(smsg, UserWarning)\n"
     ]
    }
   ],
   "source": [
    "# Call the function to tune hyperparameters and get the best parameters\n",
    "best_params, best_accuracy, test_accuracy = tune_xgb_hyperparameters(X_train, y_train, X_test, y_test)\n",
    "\n",
    "# Use the best parameters to create and train the model\n",
    "model = create_xgb_model(best_params, X_train, y_train)"
   ]
  },
  {
   "cell_type": "markdown",
   "metadata": {},
   "source": [
    "# Logistic Regression"
   ]
  },
  {
   "cell_type": "markdown",
   "metadata": {},
   "source": [
    "# Using Sklearn"
   ]
  },
  {
   "cell_type": "code",
   "execution_count": null,
   "metadata": {},
   "outputs": [
    {
     "name": "stdout",
     "output_type": "stream",
     "text": [
      "Predictions: [0 0 0 0 1 0 0 0 0 0 1 1 0 0 0 0 0 0 0 0 0 1 0 1 0 0 0 0 0 0 0 1 0 0 0 1 0\n",
      " 0 0 0 1 1 0 0 0 0 1 0 0 0 0 0 0 1 0 0 0 0 0 1 0 0 1 0 0 0 1 1 0 0 0 0 0 0\n",
      " 1 1 0 0 0 1 1 0 0 0 1 0 1 0 0 0 0 0 1 0 0 0 0 0 0 1 1 1 0 0 1 0 0 1 1 0 1\n",
      " 0 0 0 0 0 0 0 0 1 0 0 0 0 1 0 1 0 0 0 0 1 0 1 0 1 0 0 1 0 0 0 0 0 0 1 0 1\n",
      " 0 0 0 0 1 0 1 0 0 0 1 0 0 1 0 0 0 0 0 0 0 1 1 0 0 0 0 0 0 1 0 0 0 1 0 0 0\n",
      " 0 1 0 1 1 0 1 0 0 0 0 0 0 0 0 0 0 0 1 0 1 0 0 0 0 0 0 0 0 1 0 0 1 0 0 0 0\n",
      " 0 0 0 1 0 1 0 0 0 1 1 1 0 1 0 1 0 0 0 1 0 0 0 1 0 1 0 0]\n",
      "Accuracy: 0.86\n"
     ]
    },
    {
     "name": "stderr",
     "output_type": "stream",
     "text": [
      "c:\\Users\\hp\\AppData\\Local\\Programs\\Python\\Python312\\Lib\\site-packages\\sklearn\\utils\\validation.py:1339: DataConversionWarning: A column-vector y was passed when a 1d array was expected. Please change the shape of y to (n_samples, ), for example using ravel().\n",
      "  y = column_or_1d(y, warn=True)\n"
     ]
    }
   ],
   "source": [
    "from sklearn.linear_model import LogisticRegression\n",
    "from sklearn.model_selection import train_test_split\n",
    "from sklearn.metrics import accuracy_score\n",
    "\n",
    "Log_Reg = LogisticRegression()\n",
    "Log_Reg.fit(X_train, y_train)\n",
    "\n",
    "# Predict and evaluate\n",
    "y_pred = Log_Reg.predict(X_test)\n",
    "print(\"Predictions:\", y_pred)\n",
    "print(\"Accuracy:\", accuracy_score(y_test, y_pred))\n"
   ]
  },
  {
   "cell_type": "code",
   "execution_count": 41,
   "metadata": {},
   "outputs": [],
   "source": [
    "def tune_logistic_hyperparameters():\n",
    "    param_grid = {\n",
    "        'C': [0.01, 0.1, 1, 10, 100],         # Regularization strength\n",
    "        'max_iter': [50, 100, 200, 300],      # Maximum number of iterations\n",
    "        'solver': ['lbfgs', 'liblinear'],     # Solvers that support L2 and L1 regularization\n",
    "        'penalty': ['l2'],                    # Regularization type (only 'l2' for these solvers)\n",
    "    }\n",
    "\n",
    "    log_reg = LogisticRegression()\n",
    "\n",
    "    grid_search = GridSearchCV(\n",
    "        estimator=log_reg,\n",
    "        param_grid=param_grid,\n",
    "        cv=5,                  # 5-fold cross-validation\n",
    "        scoring='accuracy',    # Metric to optimize\n",
    "        verbose=10,            # Detailed output of the search process\n",
    "        n_jobs=-1              # Use all available cores for faster computation\n",
    "    )\n",
    "\n",
    "    grid_search.fit(X_train, y_train)\n",
    "\n",
    "    print(\"Best Parameters:\", grid_search.best_params_)\n",
    "    print(\"Best Cross-Validation Accuracy:\", grid_search.best_score_)\n",
    "\n",
    "    best_model = grid_search.best_estimator_\n",
    "    y_pred = best_model.predict(X_test)\n",
    "    test_accuracy = accuracy_score(y_test, y_pred)\n",
    "    print(\"Test Accuracy:\", test_accuracy)\n",
    "    return best_model\n"
   ]
  },
  {
   "cell_type": "code",
   "execution_count": 42,
   "metadata": {},
   "outputs": [
    {
     "name": "stdout",
     "output_type": "stream",
     "text": [
      "Fitting 5 folds for each of 40 candidates, totalling 200 fits\n",
      "Best Parameters: {'C': 0.01, 'max_iter': 50, 'penalty': 'l2', 'solver': 'lbfgs'}\n",
      "Best Cross-Validation Accuracy: 0.907157894736842\n",
      "Test Accuracy: 0.88\n",
      "accuracy_score:  0.88\n",
      "Recall Score: 0.6666666666666666\n",
      "Precision Score: 0.8679245283018868\n",
      "F1 Score: 0.7540983606557377\n"
     ]
    },
    {
     "name": "stderr",
     "output_type": "stream",
     "text": [
      "c:\\Users\\hp\\AppData\\Local\\Programs\\Python\\Python312\\Lib\\site-packages\\sklearn\\utils\\validation.py:1339: DataConversionWarning: A column-vector y was passed when a 1d array was expected. Please change the shape of y to (n_samples, ), for example using ravel().\n",
      "  y = column_or_1d(y, warn=True)\n"
     ]
    }
   ],
   "source": [
    "model = tune_logistic_hyperparameters()\n",
    "y_pred = model.predict(X_test)\n",
    "print(\"accuracy_score: \" , accuracy_score(y_pred=y_pred , y_true=y_test))\n",
    "print(\"Recall Score:\", recall_score(y_true=y_test, y_pred=y_pred, average='binary'))\n",
    "print(\"Precision Score:\", precision_score(y_true=y_test, y_pred=y_pred, average='binary'))\n",
    "print(\"F1 Score:\", f1_score(y_true=y_test, y_pred=y_pred, average='binary'))"
   ]
  },
  {
   "cell_type": "markdown",
   "metadata": {},
   "source": [
    "# Manual Implementation"
   ]
  },
  {
   "cell_type": "code",
   "execution_count": 20,
   "metadata": {},
   "outputs": [],
   "source": [
    "def sigmoid(z):\n",
    "    return 1 / (1 + np.exp(-z))"
   ]
  },
  {
   "cell_type": "code",
   "execution_count": 21,
   "metadata": {},
   "outputs": [],
   "source": [
    "def loss(y_pred, y):\n",
    "    return - (y * np.log(y_pred) + (1 - y) * np.log(1 - y_pred))"
   ]
  },
  {
   "cell_type": "code",
   "execution_count": 27,
   "metadata": {},
   "outputs": [],
   "source": [
    "def cost_func(X , y , w ,b):\n",
    "    y_pred = sigmoid(np.dot(X , w.T) + b)\n",
    "    y_pred[np.isinf(y_pred)] = 1e-15\n",
    "    cost = np.mean(loss(y_pred , y)) # (m , n) @(n , 1)--> (m , 1) + b -> (m+b , 1)\n",
    "    return cost"
   ]
  },
  {
   "cell_type": "code",
   "execution_count": 28,
   "metadata": {},
   "outputs": [],
   "source": [
    "def derivatives(X , y , w , b):\n",
    "    m = X.shape[0]\n",
    "    dw = np.zeros_like(w)\n",
    "    db = 0\n",
    "    y_pred = sigmoid(np.dot(X , w.T) + b)\n",
    "    y_pred[np.isinf(y_pred)] = 1e-15\n",
    "    error = y_pred - y\n",
    "    dw = (1 / m) * np.dot(error.T, X)  # Gradient of loss with respect to weights\n",
    "    db = (1 / m) * np.sum(error)\n",
    "    return dw , db"
   ]
  },
  {
   "cell_type": "code",
   "execution_count": 30,
   "metadata": {},
   "outputs": [],
   "source": [
    "def Gradient_Descent(X , y , w , b , alpha , epochs):\n",
    "   # Hyperparameters for Adam optimizer\n",
    "    beta1 = 0.9   # Exponential decay rate for the first moment estimate\n",
    "    beta2 = 0.999 # Exponential decay rate for the second moment estimate\n",
    "    epsilon = 1e-8 # Small number to avoid division by zero\n",
    "    \n",
    "    m_w = np.zeros_like(w)   # Initialize first moment for weights\n",
    "    v_w = np.zeros_like(w)   # Initialize second moment for weights\n",
    "    m_b = 0                  # Initialize first moment for bias\n",
    "    v_b = 0                  # Initialize second moment for bias\n",
    "    t = 0                    # Time step counter\n",
    "    \n",
    "    for i in range(epochs):\n",
    "        t += 1  # Increment the time step\n",
    "        \n",
    "        # Forward pass\n",
    "        cost = cost_func(X , y , w , b)\n",
    "        \n",
    "        # Backward pass\n",
    "        dw, db = derivatives(X , y , w , b)\n",
    "        # Update weights and bias\n",
    "        w = w - alpha * dw\n",
    "        b = b - alpha * db\n",
    "        if(i % 10000 == 0):\n",
    "            print(cost)\n",
    "    return w, b"
   ]
  },
  {
   "cell_type": "code",
   "execution_count": 31,
   "metadata": {},
   "outputs": [],
   "source": [
    "w = np.zeros((1 , X.shape[1]))\n",
    "b = 0"
   ]
  },
  {
   "cell_type": "code",
   "execution_count": 38,
   "metadata": {},
   "outputs": [
    {
     "name": "stdout",
     "output_type": "stream",
     "text": [
      "0.6931471805599453\n",
      "0.19300020826040035\n",
      "0.18935959950417117\n",
      "0.18874156017732918\n",
      "0.1885799517736491\n",
      "0.18852210320396337\n",
      "0.18849551694495087\n",
      "0.1884812255069081\n"
     ]
    }
   ],
   "source": [
    "updated_w , updated_b = Gradient_Descent(X_train , y_train , w , b , 0.01 , 80000)"
   ]
  },
  {
   "cell_type": "code",
   "execution_count": 33,
   "metadata": {},
   "outputs": [
    {
     "name": "stdout",
     "output_type": "stream",
     "text": [
      "[[ 0.25520494  0.02265991  0.09775791 -0.09367566 -0.00383444 -3.17529606\n",
      "   0.20455798 -0.02547547 -2.31807696  2.31511534  0.08303763  0.17916106\n",
      "   0.34260695  0.14316126  0.03970752  0.14115772]]\n",
      "0.6666334533289103\n"
     ]
    }
   ],
   "source": [
    "print(updated_w)\n",
    "print(updated_b)"
   ]
  },
  {
   "cell_type": "code",
   "execution_count": 34,
   "metadata": {},
   "outputs": [
    {
     "name": "stdout",
     "output_type": "stream",
     "text": [
      "0.6931471805599453\n",
      "0.6931471805599454\n"
     ]
    }
   ],
   "source": [
    "print(cost_func(X_train , y_train , w , b))\n",
    "print(cost_func(X_test , y_test , w , b))"
   ]
  },
  {
   "cell_type": "code",
   "execution_count": 35,
   "metadata": {},
   "outputs": [
    {
     "name": "stdout",
     "output_type": "stream",
     "text": [
      "0.1885799517736491\n",
      "0.2256450234460412\n"
     ]
    }
   ],
   "source": [
    "print(cost_func(X_train , y_train , updated_w , updated_b))\n",
    "print(cost_func(X_test , y_test , updated_w , updated_b))"
   ]
  },
  {
   "cell_type": "code",
   "execution_count": 37,
   "metadata": {},
   "outputs": [
    {
     "name": "stdout",
     "output_type": "stream",
     "text": [
      "accuracy_score:  0.276\n",
      "Recall Score: 1.0\n",
      "Precision Score: 0.276\n",
      "F1 Score: 0.43260188087774293\n"
     ]
    }
   ],
   "source": [
    "y_pred =sigmoid(np.dot(X_test , w.T) + b)\n",
    "y_pred = [0 if i < 0.5 else 1 for i in y_pred]\n",
    "print(\"accuracy_score: \" , accuracy_score(y_pred=y_pred , y_true=y_test))\n",
    "print(\"Recall Score:\", recall_score(y_true=y_test, y_pred=y_pred, average='binary'))\n",
    "print(\"Precision Score:\", precision_score(y_true=y_test, y_pred=y_pred, average='binary'))\n",
    "print(\"F1 Score:\", f1_score(y_true=y_test, y_pred=y_pred, average='binary'))\n"
   ]
  },
  {
   "cell_type": "code",
   "execution_count": null,
   "metadata": {},
   "outputs": [],
   "source": []
  }
 ],
 "metadata": {
  "kernelspec": {
   "display_name": "Python 3",
   "language": "python",
   "name": "python3"
  },
  "language_info": {
   "codemirror_mode": {
    "name": "ipython",
    "version": 3
   },
   "file_extension": ".py",
   "mimetype": "text/x-python",
   "name": "python",
   "nbconvert_exporter": "python",
   "pygments_lexer": "ipython3",
   "version": "3.12.4"
  }
 },
 "nbformat": 4,
 "nbformat_minor": 2
}
